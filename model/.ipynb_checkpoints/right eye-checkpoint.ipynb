{
 "cells": [
  {
   "cell_type": "code",
   "execution_count": 1,
   "id": "333e3787",
   "metadata": {},
   "outputs": [],
   "source": [
    "import pandas as pd\n",
    "from sklearn.preprocessing import StandardScaler\n",
    "import seaborn as sns\n",
    "from imblearn.over_sampling import RandomOverSampler as ros \n",
    "from collections import Counter"
   ]
  },
  {
   "cell_type": "code",
   "execution_count": 2,
   "id": "88f66b02",
   "metadata": {},
   "outputs": [],
   "source": [
    "data = pd.read_excel('right.xlsx')"
   ]
  },
  {
   "cell_type": "code",
   "execution_count": 3,
   "id": "1d6c3756",
   "metadata": {},
   "outputs": [
    {
     "data": {
      "text/html": [
       "<div>\n",
       "<style scoped>\n",
       "    .dataframe tbody tr th:only-of-type {\n",
       "        vertical-align: middle;\n",
       "    }\n",
       "\n",
       "    .dataframe tbody tr th {\n",
       "        vertical-align: top;\n",
       "    }\n",
       "\n",
       "    .dataframe thead th {\n",
       "        text-align: right;\n",
       "    }\n",
       "</style>\n",
       "<table border=\"1\" class=\"dataframe\">\n",
       "  <thead>\n",
       "    <tr style=\"text-align: right;\">\n",
       "      <th></th>\n",
       "      <th>19.269420</th>\n",
       "      <th>35.128336</th>\n",
       "      <th>0.274272</th>\n",
       "      <th>2.000000</th>\n",
       "    </tr>\n",
       "  </thead>\n",
       "  <tbody>\n",
       "    <tr>\n",
       "      <th>0</th>\n",
       "      <td>15.133326</td>\n",
       "      <td>40.199502</td>\n",
       "      <td>0.188228</td>\n",
       "      <td>1</td>\n",
       "    </tr>\n",
       "    <tr>\n",
       "      <th>1</th>\n",
       "      <td>19.105261</td>\n",
       "      <td>34.058773</td>\n",
       "      <td>0.280475</td>\n",
       "      <td>2</td>\n",
       "    </tr>\n",
       "    <tr>\n",
       "      <th>2</th>\n",
       "      <td>19.253424</td>\n",
       "      <td>35.128336</td>\n",
       "      <td>0.274044</td>\n",
       "      <td>2</td>\n",
       "    </tr>\n",
       "    <tr>\n",
       "      <th>3</th>\n",
       "      <td>16.308469</td>\n",
       "      <td>41.194660</td>\n",
       "      <td>0.197944</td>\n",
       "      <td>1</td>\n",
       "    </tr>\n",
       "    <tr>\n",
       "      <th>4</th>\n",
       "      <td>19.198039</td>\n",
       "      <td>34.132096</td>\n",
       "      <td>0.281231</td>\n",
       "      <td>2</td>\n",
       "    </tr>\n",
       "    <tr>\n",
       "      <th>...</th>\n",
       "      <td>...</td>\n",
       "      <td>...</td>\n",
       "      <td>...</td>\n",
       "      <td>...</td>\n",
       "    </tr>\n",
       "    <tr>\n",
       "      <th>13976</th>\n",
       "      <td>12.407318</td>\n",
       "      <td>17.117243</td>\n",
       "      <td>0.362422</td>\n",
       "      <td>2</td>\n",
       "    </tr>\n",
       "    <tr>\n",
       "      <th>13977</th>\n",
       "      <td>12.082763</td>\n",
       "      <td>18.248288</td>\n",
       "      <td>0.331066</td>\n",
       "      <td>2</td>\n",
       "    </tr>\n",
       "    <tr>\n",
       "      <th>13978</th>\n",
       "      <td>9.123106</td>\n",
       "      <td>17.117243</td>\n",
       "      <td>0.266489</td>\n",
       "      <td>2</td>\n",
       "    </tr>\n",
       "    <tr>\n",
       "      <th>13979</th>\n",
       "      <td>14.142136</td>\n",
       "      <td>16.278821</td>\n",
       "      <td>0.434372</td>\n",
       "      <td>2</td>\n",
       "    </tr>\n",
       "    <tr>\n",
       "      <th>13980</th>\n",
       "      <td>8.000000</td>\n",
       "      <td>16.031220</td>\n",
       "      <td>0.249513</td>\n",
       "      <td>2</td>\n",
       "    </tr>\n",
       "  </tbody>\n",
       "</table>\n",
       "<p>13981 rows × 4 columns</p>\n",
       "</div>"
      ],
      "text/plain": [
       "       19.269420  35.128336  0.274272   2.000000 \n",
       "0      15.133326  40.199502   0.188228          1\n",
       "1      19.105261  34.058773   0.280475          2\n",
       "2      19.253424  35.128336   0.274044          2\n",
       "3      16.308469  41.194660   0.197944          1\n",
       "4      19.198039  34.132096   0.281231          2\n",
       "...          ...        ...        ...        ...\n",
       "13976  12.407318  17.117243   0.362422          2\n",
       "13977  12.082763  18.248288   0.331066          2\n",
       "13978   9.123106  17.117243   0.266489          2\n",
       "13979  14.142136  16.278821   0.434372          2\n",
       "13980   8.000000  16.031220   0.249513          2\n",
       "\n",
       "[13981 rows x 4 columns]"
      ]
     },
     "execution_count": 3,
     "metadata": {},
     "output_type": "execute_result"
    }
   ],
   "source": [
    "data"
   ]
  },
  {
   "cell_type": "code",
   "execution_count": 4,
   "id": "7b2cf972",
   "metadata": {},
   "outputs": [],
   "source": [
    "data.columns = [\"Dist1\", \"Dist2\" , \"op\",\"Dist3\"]"
   ]
  },
  {
   "cell_type": "code",
   "execution_count": 5,
   "id": "b8369a2a",
   "metadata": {},
   "outputs": [
    {
     "data": {
      "text/html": [
       "<div>\n",
       "<style scoped>\n",
       "    .dataframe tbody tr th:only-of-type {\n",
       "        vertical-align: middle;\n",
       "    }\n",
       "\n",
       "    .dataframe tbody tr th {\n",
       "        vertical-align: top;\n",
       "    }\n",
       "\n",
       "    .dataframe thead th {\n",
       "        text-align: right;\n",
       "    }\n",
       "</style>\n",
       "<table border=\"1\" class=\"dataframe\">\n",
       "  <thead>\n",
       "    <tr style=\"text-align: right;\">\n",
       "      <th></th>\n",
       "      <th>Dist1</th>\n",
       "      <th>Dist2</th>\n",
       "      <th>op</th>\n",
       "      <th>Dist3</th>\n",
       "    </tr>\n",
       "  </thead>\n",
       "  <tbody>\n",
       "    <tr>\n",
       "      <th>0</th>\n",
       "      <td>15.133326</td>\n",
       "      <td>40.199502</td>\n",
       "      <td>0.188228</td>\n",
       "      <td>1</td>\n",
       "    </tr>\n",
       "    <tr>\n",
       "      <th>1</th>\n",
       "      <td>19.105261</td>\n",
       "      <td>34.058773</td>\n",
       "      <td>0.280475</td>\n",
       "      <td>2</td>\n",
       "    </tr>\n",
       "    <tr>\n",
       "      <th>2</th>\n",
       "      <td>19.253424</td>\n",
       "      <td>35.128336</td>\n",
       "      <td>0.274044</td>\n",
       "      <td>2</td>\n",
       "    </tr>\n",
       "    <tr>\n",
       "      <th>3</th>\n",
       "      <td>16.308469</td>\n",
       "      <td>41.194660</td>\n",
       "      <td>0.197944</td>\n",
       "      <td>1</td>\n",
       "    </tr>\n",
       "    <tr>\n",
       "      <th>4</th>\n",
       "      <td>19.198039</td>\n",
       "      <td>34.132096</td>\n",
       "      <td>0.281231</td>\n",
       "      <td>2</td>\n",
       "    </tr>\n",
       "    <tr>\n",
       "      <th>...</th>\n",
       "      <td>...</td>\n",
       "      <td>...</td>\n",
       "      <td>...</td>\n",
       "      <td>...</td>\n",
       "    </tr>\n",
       "    <tr>\n",
       "      <th>13976</th>\n",
       "      <td>12.407318</td>\n",
       "      <td>17.117243</td>\n",
       "      <td>0.362422</td>\n",
       "      <td>2</td>\n",
       "    </tr>\n",
       "    <tr>\n",
       "      <th>13977</th>\n",
       "      <td>12.082763</td>\n",
       "      <td>18.248288</td>\n",
       "      <td>0.331066</td>\n",
       "      <td>2</td>\n",
       "    </tr>\n",
       "    <tr>\n",
       "      <th>13978</th>\n",
       "      <td>9.123106</td>\n",
       "      <td>17.117243</td>\n",
       "      <td>0.266489</td>\n",
       "      <td>2</td>\n",
       "    </tr>\n",
       "    <tr>\n",
       "      <th>13979</th>\n",
       "      <td>14.142136</td>\n",
       "      <td>16.278821</td>\n",
       "      <td>0.434372</td>\n",
       "      <td>2</td>\n",
       "    </tr>\n",
       "    <tr>\n",
       "      <th>13980</th>\n",
       "      <td>8.000000</td>\n",
       "      <td>16.031220</td>\n",
       "      <td>0.249513</td>\n",
       "      <td>2</td>\n",
       "    </tr>\n",
       "  </tbody>\n",
       "</table>\n",
       "<p>13981 rows × 4 columns</p>\n",
       "</div>"
      ],
      "text/plain": [
       "           Dist1      Dist2        op  Dist3\n",
       "0      15.133326  40.199502  0.188228      1\n",
       "1      19.105261  34.058773  0.280475      2\n",
       "2      19.253424  35.128336  0.274044      2\n",
       "3      16.308469  41.194660  0.197944      1\n",
       "4      19.198039  34.132096  0.281231      2\n",
       "...          ...        ...       ...    ...\n",
       "13976  12.407318  17.117243  0.362422      2\n",
       "13977  12.082763  18.248288  0.331066      2\n",
       "13978   9.123106  17.117243  0.266489      2\n",
       "13979  14.142136  16.278821  0.434372      2\n",
       "13980   8.000000  16.031220  0.249513      2\n",
       "\n",
       "[13981 rows x 4 columns]"
      ]
     },
     "execution_count": 5,
     "metadata": {},
     "output_type": "execute_result"
    }
   ],
   "source": [
    "data"
   ]
  },
  {
   "cell_type": "code",
   "execution_count": 6,
   "id": "ab6ffeeb",
   "metadata": {},
   "outputs": [
    {
     "data": {
      "text/plain": [
       "Dist1    0\n",
       "Dist2    0\n",
       "op       0\n",
       "Dist3    0\n",
       "dtype: int64"
      ]
     },
     "execution_count": 6,
     "metadata": {},
     "output_type": "execute_result"
    }
   ],
   "source": [
    "data.isnull().sum()"
   ]
  },
  {
   "cell_type": "code",
   "execution_count": 7,
   "id": "6390db7a",
   "metadata": {},
   "outputs": [
    {
     "data": {
      "text/plain": [
       "<AxesSubplot:>"
      ]
     },
     "execution_count": 7,
     "metadata": {},
     "output_type": "execute_result"
    },
    {
     "data": {
      "image/png": "[encoded data removed]",
      "text/plain": [
       "<Figure size 432x288 with 2 Axes>"
      ]
     },
     "metadata": {
      "needs_background": "light"
     },
     "output_type": "display_data"
    }
   ],
   "source": [
    "sns.heatmap(data.corr(), annot = True)"
   ]
  },
  {
   "cell_type": "code",
   "execution_count": 8,
   "id": "76df6ba3",
   "metadata": {},
   "outputs": [
    {
     "data": {
      "text/plain": [
       "0.333333    172\n",
       "0.250000    102\n",
       "0.311891     86\n",
       "0.316228     83\n",
       "0.335888     81\n",
       "           ... \n",
       "0.115618      1\n",
       "0.144444      1\n",
       "0.206476      1\n",
       "0.188373      1\n",
       "0.362422      1\n",
       "Name: op, Length: 3250, dtype: int64"
      ]
     },
     "execution_count": 8,
     "metadata": {},
     "output_type": "execute_result"
    }
   ],
   "source": [
    "data[\"op\"].value_counts()"
   ]
  },
  {
   "cell_type": "code",
   "execution_count": 9,
   "id": "698e4852",
   "metadata": {},
   "outputs": [
    {
     "name": "stdout",
     "output_type": "stream",
     "text": [
      "<bound method NDFrame.head of            Dist1      Dist2  Data3\n",
      "0      15.133326  40.199502      1\n",
      "1      19.105261  34.058773      2\n",
      "2      19.253424  35.128336      2\n",
      "3      16.308469  41.194660      1\n",
      "4      19.198039  34.132096      2\n",
      "...          ...        ...    ...\n",
      "13976  12.407318  17.117243      2\n",
      "13977  12.082763  18.248288      2\n",
      "13978   9.123106  17.117243      2\n",
      "13979  14.142136  16.278821      2\n",
      "13980   8.000000  16.031220      2\n",
      "\n",
      "[13981 rows x 3 columns]>\n"
     ]
    }
   ],
   "source": [
    "X = data.iloc[:,0:2] \n",
    "X[\"Data3\"] = data.iloc[:,3]\n",
    "print(X.head)"
   ]
  },
  {
   "cell_type": "code",
   "execution_count": 10,
   "id": "9d150881",
   "metadata": {},
   "outputs": [
    {
     "data": {
      "text/plain": [
       "0        0.188228\n",
       "1        0.280475\n",
       "2        0.274044\n",
       "3        0.197944\n",
       "4        0.281231\n",
       "           ...   \n",
       "13976    0.362422\n",
       "13977    0.331066\n",
       "13978    0.266489\n",
       "13979    0.434372\n",
       "13980    0.249513\n",
       "Name: op, Length: 13981, dtype: float64"
      ]
     },
     "execution_count": 10,
     "metadata": {},
     "output_type": "execute_result"
    }
   ],
   "source": [
    "y = data.iloc[:,2]\n",
    "y"
   ]
  },
  {
   "cell_type": "code",
   "execution_count": 11,
   "id": "0f100d09",
   "metadata": {},
   "outputs": [
    {
     "ename": "ValueError",
     "evalue": "Unknown label type: 'continuous'",
     "output_type": "error",
     "traceback": [
      "\u001b[1;31m---------------------------------------------------------------------------\u001b[0m",
      "\u001b[1;31mValueError\u001b[0m                                Traceback (most recent call last)",
      "\u001b[1;32m~\\AppData\\Local\\Temp/ipykernel_14312/950628413.py\u001b[0m in \u001b[0;36m<module>\u001b[1;34m\u001b[0m\n\u001b[0;32m      1\u001b[0m \u001b[0mros\u001b[0m \u001b[1;33m=\u001b[0m \u001b[0mros\u001b[0m\u001b[1;33m(\u001b[0m\u001b[0mrandom_state\u001b[0m\u001b[1;33m=\u001b[0m\u001b[1;36m42\u001b[0m\u001b[1;33m)\u001b[0m\u001b[1;33m\u001b[0m\u001b[1;33m\u001b[0m\u001b[0m\n\u001b[1;32m----> 2\u001b[1;33m \u001b[0mX_res\u001b[0m\u001b[1;33m,\u001b[0m \u001b[0my_res\u001b[0m \u001b[1;33m=\u001b[0m \u001b[0mros\u001b[0m\u001b[1;33m.\u001b[0m\u001b[0mfit_resample\u001b[0m\u001b[1;33m(\u001b[0m\u001b[0mX\u001b[0m\u001b[1;33m,\u001b[0m \u001b[0my\u001b[0m\u001b[1;33m)\u001b[0m\u001b[1;33m\u001b[0m\u001b[1;33m\u001b[0m\u001b[0m\n\u001b[0m",
      "\u001b[1;32mC:\\ProgramData\\Anaconda3\\lib\\site-packages\\imblearn\\base.py\u001b[0m in \u001b[0;36mfit_resample\u001b[1;34m(self, X, y)\u001b[0m\n\u001b[0;32m     73\u001b[0m             \u001b[0mThe\u001b[0m \u001b[0mcorresponding\u001b[0m \u001b[0mlabel\u001b[0m \u001b[0mof\u001b[0m\u001b[0;31m \u001b[0m\u001b[0;31m`\u001b[0m\u001b[0mX_resampled\u001b[0m\u001b[0;31m`\u001b[0m\u001b[1;33m.\u001b[0m\u001b[1;33m\u001b[0m\u001b[1;33m\u001b[0m\u001b[0m\n\u001b[0;32m     74\u001b[0m         \"\"\"\n\u001b[1;32m---> 75\u001b[1;33m         \u001b[0mcheck_classification_targets\u001b[0m\u001b[1;33m(\u001b[0m\u001b[0my\u001b[0m\u001b[1;33m)\u001b[0m\u001b[1;33m\u001b[0m\u001b[1;33m\u001b[0m\u001b[0m\n\u001b[0m\u001b[0;32m     76\u001b[0m         \u001b[0marrays_transformer\u001b[0m \u001b[1;33m=\u001b[0m \u001b[0mArraysTransformer\u001b[0m\u001b[1;33m(\u001b[0m\u001b[0mX\u001b[0m\u001b[1;33m,\u001b[0m \u001b[0my\u001b[0m\u001b[1;33m)\u001b[0m\u001b[1;33m\u001b[0m\u001b[1;33m\u001b[0m\u001b[0m\n\u001b[0;32m     77\u001b[0m         \u001b[0mX\u001b[0m\u001b[1;33m,\u001b[0m \u001b[0my\u001b[0m\u001b[1;33m,\u001b[0m \u001b[0mbinarize_y\u001b[0m \u001b[1;33m=\u001b[0m \u001b[0mself\u001b[0m\u001b[1;33m.\u001b[0m\u001b[0m_check_X_y\u001b[0m\u001b[1;33m(\u001b[0m\u001b[0mX\u001b[0m\u001b[1;33m,\u001b[0m \u001b[0my\u001b[0m\u001b[1;33m)\u001b[0m\u001b[1;33m\u001b[0m\u001b[1;33m\u001b[0m\u001b[0m\n",
      "\u001b[1;32mC:\\ProgramData\\Anaconda3\\lib\\site-packages\\sklearn\\utils\\multiclass.py\u001b[0m in \u001b[0;36mcheck_classification_targets\u001b[1;34m(y)\u001b[0m\n\u001b[0;32m    181\u001b[0m     if y_type not in ['binary', 'multiclass', 'multiclass-multioutput',\n\u001b[0;32m    182\u001b[0m                       'multilabel-indicator', 'multilabel-sequences']:\n\u001b[1;32m--> 183\u001b[1;33m         \u001b[1;32mraise\u001b[0m \u001b[0mValueError\u001b[0m\u001b[1;33m(\u001b[0m\u001b[1;34m\"Unknown label type: %r\"\u001b[0m \u001b[1;33m%\u001b[0m \u001b[0my_type\u001b[0m\u001b[1;33m)\u001b[0m\u001b[1;33m\u001b[0m\u001b[1;33m\u001b[0m\u001b[0m\n\u001b[0m\u001b[0;32m    184\u001b[0m \u001b[1;33m\u001b[0m\u001b[0m\n\u001b[0;32m    185\u001b[0m \u001b[1;33m\u001b[0m\u001b[0m\n",
      "\u001b[1;31mValueError\u001b[0m: Unknown label type: 'continuous'"
     ]
    }
   ],
   "source": [
    "ros = ros(random_state=42)\n",
    "X_res, y_res = ros.fit_resample(X, y)"
   ]
  },
  {
   "cell_type": "code",
   "execution_count": null,
   "id": "13489834",
   "metadata": {},
   "outputs": [],
   "source": [
    "print(Counter(data[\"op\"]))\n",
    "print(Counter(y_res))"
   ]
  },
  {
   "cell_type": "markdown",
   "id": "1b6d0776",
   "metadata": {},
   "source": [
    "# converting data back for model training"
   ]
  },
  {
   "cell_type": "code",
   "execution_count": null,
   "id": "0feac05b",
   "metadata": {},
   "outputs": [],
   "source": [
    "dx = pd.DataFrame(X_res)\n",
    "dy = pd.Series(y_res)"
   ]
  },
  {
   "cell_type": "code",
   "execution_count": null,
   "id": "1303e4c0",
   "metadata": {},
   "outputs": [],
   "source": [
    "dx"
   ]
  },
  {
   "cell_type": "code",
   "execution_count": null,
   "id": "54c47881",
   "metadata": {},
   "outputs": [],
   "source": [
    "dy"
   ]
  },
  {
   "cell_type": "markdown",
   "id": "518435ec",
   "metadata": {},
   "source": [
    "# Standardising the Data"
   ]
  },
  {
   "cell_type": "code",
   "execution_count": null,
   "id": "26003003",
   "metadata": {},
   "outputs": [],
   "source": [
    "std1 = StandardScaler()\n",
    "dx1= std1.fit_transform(dx)\n",
    "dx1 = pd.DataFrame(dx1)\n",
    "print(dx1.head())"
   ]
  },
  {
   "cell_type": "markdown",
   "id": "c95dcf55",
   "metadata": {},
   "source": [
    "# Model Training"
   ]
  },
  {
   "cell_type": "code",
   "execution_count": null,
   "id": "cbca6f70",
   "metadata": {},
   "outputs": [],
   "source": [
    "from sklearn.linear_model import LogisticRegression\n",
    "from sklearn.metrics import classification_report,accuracy_score,confusion_matrix"
   ]
  },
  {
   "cell_type": "code",
   "execution_count": null,
   "id": "99cd711c",
   "metadata": {},
   "outputs": [],
   "source": [
    "from sklearn.model_selection import train_test_split as tts\n",
    "x_train,x_test,y_train,y_test = tts(dx1,dy,test_size = 0.3,random_state = 42)"
   ]
  },
  {
   "cell_type": "code",
   "execution_count": null,
   "id": "5beabea5",
   "metadata": {},
   "outputs": [],
   "source": [
    "lr1 = LogisticRegression()\n",
    "lr1.fit(x_train,y_train)\n",
    "ypred = lr1.predict(x_test)\n",
    "print(\"Accuracy score - {} \".format(accuracy_score(y_test,ypred)))\n",
    "print(\"Confusion matrix -\\n {} \".format(confusion_matrix(y_test,ypred)))\n",
    "print(\"Cllasification report - \\n {} \".format(classification_report(y_test,ypred)))\n",
    "print(\"Score(test) - {} \".format(lr1.score(x_test,y_test)))\n",
    "print(\"Score(train) - {} \".format(lr1.score(x_train,y_train)))"
   ]
  },
  {
   "cell_type": "markdown",
   "id": "54cdca27",
   "metadata": {},
   "source": [
    "# Saving Model using pickle"
   ]
  },
  {
   "cell_type": "code",
   "execution_count": null,
   "id": "0d5c941e",
   "metadata": {},
   "outputs": [],
   "source": [
    "import pickle as pkl"
   ]
  },
  {
   "cell_type": "code",
   "execution_count": null,
   "id": "d563381e",
   "metadata": {},
   "outputs": [],
   "source": [
    "pkl.dump(lr1,open(\"right_eye_model\",'wb'))\n",
    "pkl.dump(std1,open(\"right_eye_scaling_datamodel\",'wb'))"
   ]
  },
  {
   "cell_type": "markdown",
   "id": "05075e23",
   "metadata": {},
   "source": [
    "# Testing if the model works"
   ]
  },
  {
   "cell_type": "code",
   "execution_count": null,
   "id": "67dd4500",
   "metadata": {},
   "outputs": [],
   "source": [
    "model = pkl.load(open('right_eye_model','rb'))"
   ]
  },
  {
   "cell_type": "code",
   "execution_count": null,
   "id": "0b2c7080",
   "metadata": {},
   "outputs": [],
   "source": [
    "result = model.predict([x_test.iloc[6,:]])\n",
    "print(result)"
   ]
  },
  {
   "cell_type": "code",
   "execution_count": null,
   "id": "edc7eeeb",
   "metadata": {},
   "outputs": [],
   "source": [
    "y_test.iloc[6]"
   ]
  },
  {
   "cell_type": "code",
   "execution_count": null,
   "id": "8cdc78e5",
   "metadata": {},
   "outputs": [],
   "source": []
  }
 ],
 "metadata": {
  "kernelspec": {
   "display_name": "Python 3 (ipykernel)",
   "language": "python",
   "name": "python3"
  },
  "language_info": {
   "codemirror_mode": {
    "name": "ipython",
    "version": 3
   },
   "file_extension": ".py",
   "mimetype": "text/x-python",
   "name": "python",
   "nbconvert_exporter": "python",
   "pygments_lexer": "ipython3",
   "version": "3.9.7"
  }
 },
 "nbformat": 4,
 "nbformat_minor": 5
}
