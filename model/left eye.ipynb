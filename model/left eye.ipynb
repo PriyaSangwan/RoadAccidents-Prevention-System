{
 "cells": [
  {
   "cell_type": "code",
   "execution_count": null,
   "id": "4321b42b",
   "metadata": {},
   "outputs": [],
   "source": [
    "import pandas as pd\n",
    "from sklearn.preprocessing import StandardScaler\n",
    "import seaborn as sns\n",
    "from imblearn.over_sampling import RandomOverSampler as ros \n",
    "from collections import Counter"
   ]
  },
  {
   "cell_type": "code",
   "execution_count": null,
   "id": "50d50659",
   "metadata": {},
   "outputs": [],
   "source": [
    "data = pd.read_excel('left.xlsx')"
   ]
  },
  {
   "cell_type": "code",
   "execution_count": null,
   "id": "c3a50103",
   "metadata": {},
   "outputs": [],
   "source": [
    "data"
   ]
  },
  {
   "cell_type": "code",
   "execution_count": null,
   "id": "24ce168b",
   "metadata": {},
   "outputs": [],
   "source": [
    "data.columns = [\"Dist1\", \"Dist2\",\"Dist3\" , \"op\"]"
   ]
  },
  {
   "cell_type": "code",
   "execution_count": null,
   "id": "265780a9",
   "metadata": {},
   "outputs": [],
   "source": [
    "data"
   ]
  },
  {
   "cell_type": "code",
   "execution_count": null,
   "id": "e74292d9",
   "metadata": {},
   "outputs": [],
   "source": [
    "data.isnull().sum()"
   ]
  },
  {
   "cell_type": "code",
   "execution_count": null,
   "id": "3f0f7dc6",
   "metadata": {
    "scrolled": true
   },
   "outputs": [],
   "source": [
    "sns.heatmap(data.corr(), annot = True)"
   ]
  },
  {
   "cell_type": "code",
   "execution_count": null,
   "id": "39399b92",
   "metadata": {},
   "outputs": [],
   "source": [
    "data[\"op\"].value_counts()"
   ]
  },
  {
   "cell_type": "code",
   "execution_count": null,
   "id": "35743c43",
   "metadata": {},
   "outputs": [],
   "source": [
    "X = data.iloc[:,0:3]\n",
    "print(X.head)"
   ]
  },
  {
   "cell_type": "code",
   "execution_count": null,
   "id": "e148ee59",
   "metadata": {},
   "outputs": [],
   "source": [
    "y = data.iloc[:,3]"
   ]
  },
  {
   "cell_type": "code",
   "execution_count": null,
   "id": "5b54ed58",
   "metadata": {},
   "outputs": [],
   "source": [
    "ros =ros(random_state=42 )\n",
    "X_res, y_res = ros.fit_resample(X, y)"
   ]
  },
  {
   "cell_type": "code",
   "execution_count": null,
   "id": "a0f76016",
   "metadata": {
    "scrolled": true
   },
   "outputs": [],
   "source": [
    "print(Counter(data[\"op\"]))\n",
    "print(Counter(y_res))"
   ]
  },
  {
   "cell_type": "code",
   "execution_count": null,
   "id": "d73361ec",
   "metadata": {},
   "outputs": [],
   "source": [
    "X_res"
   ]
  },
  {
   "cell_type": "code",
   "execution_count": null,
   "id": "feb46039",
   "metadata": {},
   "outputs": [],
   "source": [
    "y_res.tail()"
   ]
  },
  {
   "cell_type": "markdown",
   "id": "217ca2de",
   "metadata": {},
   "source": [
    "# converting data back for model training"
   ]
  },
  {
   "cell_type": "code",
   "execution_count": null,
   "id": "67cf9006",
   "metadata": {},
   "outputs": [],
   "source": [
    "dx = pd.DataFrame(X_res)\n",
    "dy = pd.Series(y_res)"
   ]
  },
  {
   "cell_type": "code",
   "execution_count": null,
   "id": "dc3203f8",
   "metadata": {},
   "outputs": [],
   "source": [
    "dx"
   ]
  },
  {
   "cell_type": "code",
   "execution_count": null,
   "id": "2f3165bd",
   "metadata": {},
   "outputs": [],
   "source": [
    "dy"
   ]
  },
  {
   "cell_type": "markdown",
   "id": "24b87108",
   "metadata": {},
   "source": [
    "# Standardising the Data"
   ]
  },
  {
   "cell_type": "code",
   "execution_count": null,
   "id": "f40909fa",
   "metadata": {},
   "outputs": [],
   "source": [
    "std = StandardScaler()\n",
    "dx1= std.fit_transform(dx)\n",
    "dx1 = pd.DataFrame(dx1)\n",
    "print(dx1.head())"
   ]
  },
  {
   "cell_type": "markdown",
   "id": "cd60fe6a",
   "metadata": {},
   "source": [
    "# Model Training"
   ]
  },
  {
   "cell_type": "code",
   "execution_count": null,
   "id": "d8a8fa5f",
   "metadata": {},
   "outputs": [],
   "source": [
    "from sklearn.linear_model import LogisticRegression\n",
    "\n",
    "from sklearn.metrics import classification_report,accuracy_score,confusion_matrix"
   ]
  },
  {
   "cell_type": "code",
   "execution_count": null,
   "id": "933dc66a",
   "metadata": {},
   "outputs": [],
   "source": [
    "from sklearn.model_selection import train_test_split as tts\n",
    "x_train,x_test,y_train,y_test = tts(dx1,dy,test_size =0.3,random_state = 42)"
   ]
  },
  {
   "cell_type": "code",
   "execution_count": null,
   "id": "53955e0a",
   "metadata": {},
   "outputs": [],
   "source": [
    "lr = LogisticRegression()\n",
    "lr.fit(x_train,y_train)\n",
    "ypred = lr.predict(x_test)\n",
    "print(\"Accuracy score - {} \".format(accuracy_score(y_test,ypred)))\n",
    "print(\"Confusion matrix -\\n {} \".format(confusion_matrix(y_test,ypred)))\n",
    "print(\"Cllasification report - \\n {} \".format(classification_report(y_test,ypred)))\n",
    "print(\"Score(test) - {} \".format(lr.score(x_test,y_test)))\n",
    "print(\"Score(train) - {} \".format(lr.score(x_train,y_train)))"
   ]
  },
  {
   "cell_type": "markdown",
   "id": "05a7b341",
   "metadata": {},
   "source": [
    "# Saving Model using pickle"
   ]
  },
  {
   "cell_type": "code",
   "execution_count": null,
   "id": "263d1d6c",
   "metadata": {},
   "outputs": [],
   "source": [
    "import pickle as pkl"
   ]
  },
  {
   "cell_type": "code",
   "execution_count": null,
   "id": "9c76b52e",
   "metadata": {},
   "outputs": [],
   "source": [
    "pkl.dump(lr,open(\"left_eye_model\",'wb'))\n",
    "pkl.dump(std,open(\"left_eye_scaling_datamodel\",'wb'))"
   ]
  },
  {
   "cell_type": "code",
   "execution_count": null,
   "id": "3fe97ca3",
   "metadata": {},
   "outputs": [],
   "source": []
  },
  {
   "cell_type": "markdown",
   "id": "e76c0df2",
   "metadata": {},
   "source": [
    "# Testing if the model works "
   ]
  },
  {
   "cell_type": "code",
   "execution_count": null,
   "id": "5d7fa01b",
   "metadata": {},
   "outputs": [],
   "source": [
    "lr = [12,23,0.656]"
   ]
  },
  {
   "cell_type": "code",
   "execution_count": null,
   "id": "29aa8aca",
   "metadata": {},
   "outputs": [],
   "source": [
    "lr1= model1.transform([lr])\n",
    "lr1"
   ]
  },
  {
   "cell_type": "code",
   "execution_count": null,
   "id": "b7c57362",
   "metadata": {},
   "outputs": [],
   "source": [
    "model.predict([lr])"
   ]
  },
  {
   "cell_type": "code",
   "execution_count": null,
   "id": "48a5d2f5",
   "metadata": {},
   "outputs": [],
   "source": [
    "import pickle as pkl\n",
    "model = pkl.load(open('left_eye_model','rb'))\n",
    "model1 = pkl.load(open('left_eye_scaling_datamodel','rb'))"
   ]
  },
  {
   "cell_type": "code",
   "execution_count": null,
   "id": "1e397c73",
   "metadata": {},
   "outputs": [],
   "source": [
    "result = model.predict([x_test.iloc[1,:]])\n",
    "print(result)"
   ]
  },
  {
   "cell_type": "code",
   "execution_count": null,
   "id": "41d9ef43",
   "metadata": {},
   "outputs": [],
   "source": []
  },
  {
   "cell_type": "code",
   "execution_count": null,
   "id": "8684de3e",
   "metadata": {},
   "outputs": [],
   "source": [
    "y_test.iloc[1]"
   ]
  },
  {
   "cell_type": "code",
   "execution_count": null,
   "id": "443da02d",
   "metadata": {},
   "outputs": [],
   "source": []
  },
  {
   "cell_type": "code",
   "execution_count": null,
   "id": "97bef122",
   "metadata": {},
   "outputs": [],
   "source": []
  }
 ],
 "metadata": {
  "kernelspec": {
   "display_name": "Python 3 (ipykernel)",
   "language": "python",
   "name": "python3"
  },
  "language_info": {
   "codemirror_mode": {
    "name": "ipython",
    "version": 3
   },
   "file_extension": ".py",
   "mimetype": "text/x-python",
   "name": "python",
   "nbconvert_exporter": "python",
   "pygments_lexer": "ipython3",
   "version": "3.9.7"
  }
 },
 "nbformat": 4,
 "nbformat_minor": 5
}
